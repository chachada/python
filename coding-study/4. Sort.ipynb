{
 "cells": [
  {
   "cell_type": "markdown",
   "id": "767e42bb",
   "metadata": {},
   "source": [
    "# Sort(정렬)"
   ]
  },
  {
   "cell_type": "markdown",
   "id": "1ef2f4d4",
   "metadata": {},
   "source": [
    "## Sort(정렬) 이란?\n",
    "\n",
    "2개 이상의 자료를 특정 기준에 의해 작은 값부터 큰 값 혹은 그 반대 순서로 재배열하는 것. (오름차순 정렬 / 내림차순 정렬)\n",
    "\n",
    "\n",
    "\n",
    "1. 선택정렬(Selection Sort)    \n",
    "    선택된 값과 나머지 데이터중에 비교하여 알맞은 자리를 찾는 알고리즘   <br> <br>\n",
    " \n",
    "2. 버블정렬(Bubble Sort)  \n",
    "    첫 번째 원소부터 인접한 원소끼리 계속 자리를 교환하면서 맨 끝부터 정렬하는 방식    \n",
    "    데이터를 하나씩 비교할 수 있어 정밀하게 비교 가능하나 비교횟수가 많아지므로 성능면에서 좋은 방법은 아님\n",
    "<br> <br>\n",
    "3. 삽입정렬(Insertion Sort)\n",
    "    자료 배열의 모든 요소를 앞에서부터 차례대로 이미 정렬된 배열 부분과 비교하여 자신의 위치를 찾아        \n",
    "    삽입함으로써 정렬을 완성하는 정렬 방법  \n",
    "     -성능은 버블정렬보다 좋음    \n",
    "\n",
    "        \n",
    "4. 병합 정렬(Merge Sort)\n",
    "    둘 이상의 부분집합으로 가르고, 각 부분집합을 정렬한 다음 부분집합들을 다시 정렬된 형태로 합치는 방식  \n",
    "    간단하고 쉽고 안정성이 있어 좋은 성능을 보여준다. 공간이 많이 필요하다는 단점이 있음\n",
    " <br> <br>\n",
    "\n",
    "5. 힙 정렬\n",
    "    트리 기반으로 최대 힙 트리or 최소 힙 트리를 구성해 정렬을 하는 방법.   \n",
    "    내림차순 정렬을 위해서는 최대 힙을 구성하고 오름차순 정렬을 위해서는 최소 힙을 구성하면 된다.   \n",
    "<br> \n",
    "6. 퀵 정렬(Quick Sort)(분할정복)  \n",
    "    데이터 집합내에 임의의 기준(pivot)값을 정하고 해당 피벗으로 집합을 기준으로 두개의 부분 집합으로 나눈다.  \n",
    "    한쪽 부분에는 피벗값보다 작은값들만, 다른 한쪽은 큰값들만 넣는다.  \n",
    "    -더 이상 쪼갤 부분 집합이 없을 때까지 각각의 부분 집합에 대해 피벗/쪼개기 재귀적으로 적용."
   ]
  },
  {
   "cell_type": "code",
   "execution_count": null,
   "id": "1083e092",
   "metadata": {},
   "outputs": [],
   "source": []
  },
  {
   "cell_type": "markdown",
   "id": "6887db48",
   "metadata": {},
   "source": [
    "# 프로그래머스 코딩 테스트 (Heap)\n",
    "\n",
    "https://programmers.co.kr/learn/courses/30/parts/12198"
   ]
  },
  {
   "cell_type": "markdown",
   "id": "356d5c85",
   "metadata": {},
   "source": [
    "## 1. K번째수\n",
    "\n",
    "##### 문제 설명\n",
    "배열 array의 i번째 숫자부터 j번째 숫자까지 자르고 정렬했을 때, k번째에 있는 수를 구하려 합니다.\n",
    "\n",
    "예를 들어 array가 [1, 5, 2, 6, 3, 7, 4], i = 2, j = 5, k = 3이라면\n",
    "\n",
    "1. array의 2번째부터 5번째까지 자르면 [5, 2, 6, 3]입니다.\n",
    "2. 1에서 나온 배열을 정렬하면 [2, 3, 5, 6]입니다.\n",
    "3. 2에서 나온 배열의 3번째 숫자는 5입니다.  \n",
    "배열 array, [i, j, k]를 원소로 가진 2차원 배열 commands가 매개변수로 주어질 때,   \n",
    "commands의 모든 원소에 대해 앞서 설명한 연산을 적용했을 때 나온 결과를 배열에 담아 return 하도록 solution 함수를 작성해주세요.\n",
    "\n",
    "##### 제한사항\n",
    "array의 길이는 1 이상 100 이하입니다.  \n",
    "array의 각 원소는 1 이상 100 이하입니다.  \n",
    "commands의 길이는 1 이상 50 이하입니다.  \n",
    "commands의 각 원소는 길이가 3입니다.  \n",
    "\n",
    "##### 입출력 예\n",
    "　　array　　　　　　　　commands　　　　\t　　　　return  \n",
    "[1, 5, 2, 6, 3, 7, 4]　　  \t[[2, 5, 3], [4, 4, 1], [1, 7, 3]]　　　\t[5, 6, 3]\n",
    "\n",
    "##### 입출력 예 설명\n",
    "[1, 5, 2, 6, 3, 7, 4]를 2번째부터 5번째까지 자른 후 정렬합니다. [2, 3, 5, 6]의 세 번째 숫자는 5입니다.  \n",
    "[1, 5, 2, 6, 3, 7, 4]를 4번째부터 4번째까지 자른 후 정렬합니다. [6]의 첫 번째 숫자는 6입니다.  \n",
    "[1, 5, 2, 6, 3, 7, 4]를 1번째부터 7번째까지 자릅니다. [1, 2, 3, 4, 5, 6, 7]의 세 번째 숫자는 3입니다.  "
   ]
  },
  {
   "cell_type": "code",
   "execution_count": null,
   "id": "b824712e",
   "metadata": {},
   "outputs": [],
   "source": [
    "def solution(array, commands):\n",
    "    answer=[]\n",
    "    for i in commands:\n",
    "        if i[0]==i[1]:\n",
    "            ans = array[i[0]-1]\n",
    "            answer.append(ans)\n",
    "        else:\n",
    "            ans = array[i[0]-1:i[1]]\n",
    "            ans.sort()\n",
    "            answer.append(ans[i[2]-1])\n",
    "    return answer"
   ]
  },
  {
   "cell_type": "markdown",
   "id": "dbaf1774",
   "metadata": {},
   "source": [
    "## 2.가장 큰 수\n",
    "\n",
    "##### 문제 설명\n",
    "0 또는 양의 정수가 주어졌을 때, 정수를 이어 붙여 만들 수 있는 가장 큰 수를 알아내 주세요.\n",
    "\n",
    "예를 들어, 주어진 정수가 [6, 10, 2]라면 [6102, 6210, 1062, 1026, 2610, 2106]를 만들 수 있고, 이중 가장 큰 수는 6210입니다.  \n",
    "0 또는 양의 정수가 담긴 배열 numbers가 매개변수로 주어질 때,   \n",
    "순서를 재배치하여 만들 수 있는 가장 큰 수를 문자열로 바꾸어 return 하도록 solution 함수를 작성해주세요.\n",
    "\n",
    "##### 제한 사항\n",
    "numbers의 길이는 1 이상 100,000 이하입니다.  \n",
    "numbers의 원소는 0 이상 1,000 이하입니다.  \n",
    "정답이 너무 클 수 있으니 문자열로 바꾸어 return 합니다.  \n",
    "\n",
    "##### 입출력 예\n",
    "numbers\t　　　　return  \n",
    "[6, 10, 2]\t　　　　\"6210\"  \n",
    "[3, 30, 34, 5, 9]\t　\"9534330\"  "
   ]
  },
  {
   "cell_type": "code",
   "execution_count": null,
   "id": "d7539c25",
   "metadata": {},
   "outputs": [],
   "source": [
    "def solution(numbers):\n",
    "    numbers = list(map(str, numbers))\n",
    "    numbers.sort(key = lambda x:x*3, reverse=True )\n",
    "    answer = str(int(''.join(numbers)))\n",
    "    return answer"
   ]
  },
  {
   "cell_type": "markdown",
   "id": "71448952",
   "metadata": {},
   "source": [
    "## 3. H-Index\n",
    "\n",
    "##### 문제 설명\n",
    "H-Index는 과학자의 생산성과 영향력을 나타내는 지표입니다.   \n",
    "어느 과학자의 H-Index를 나타내는 값인 h를 구하려고 합니다.  \n",
    "위키백과1에 따르면, H-Index는 다음과 같이 구합니다.\n",
    "\n",
    "어떤 과학자가 발표한 논문 n편 중, h번 이상 인용된 논문이 h편 이상이고 나머지 논문이 h번 이하 인용되었다면 h의 최댓값이 이 과학자의 H-Index입니다.\n",
    "\n",
    "어떤 과학자가 발표한 논문의 인용 횟수를 담은 배열 citations가 매개변수로 주어질 때,  \n",
    "이 과학자의 H-Index를 return 하도록 solution 함수를 작성해주세요.\n",
    "\n",
    "##### 제한사항\n",
    "과학자가 발표한 논문의 수는 1편 이상 1,000편 이하입니다.  \n",
    "논문별 인용 횟수는 0회 이상 10,000회 이하입니다.\n",
    "\n",
    "##### 입출력 예\n",
    "　citations　　　\treturn  \n",
    "[3, 0, 6, 1, 5]　\t　　3\n",
    "\n",
    "##### 입출력 예 설명\n",
    "이 과학자가 발표한 논문의 수는 5편이고, 그중 3편의 논문은 3회 이상 인용되었습니다.   \n",
    "그리고 나머지 2편의 논문은 3회 이하 인용되었기 때문에 이 과학자의 H-Index는 3입니다.\n",
    "\n"
   ]
  },
  {
   "cell_type": "code",
   "execution_count": null,
   "id": "559bbf7c",
   "metadata": {},
   "outputs": [],
   "source": [
    "def solution(citations):\n",
    "    answer = len(citations)\n",
    "    citations.sort(reverse=True)\n",
    "    for i in range(answer):\n",
    "        if citations[len(citations)-1-i] >= answer:\n",
    "            return answer\n",
    "        answer -= 1\n",
    "    return answer"
   ]
  },
  {
   "cell_type": "code",
   "execution_count": null,
   "id": "0d762fcc",
   "metadata": {},
   "outputs": [],
   "source": []
  }
 ],
 "metadata": {
  "kernelspec": {
   "display_name": "Python 3 (ipykernel)",
   "language": "python",
   "name": "python3"
  },
  "language_info": {
   "codemirror_mode": {
    "name": "ipython",
    "version": 3
   },
   "file_extension": ".py",
   "mimetype": "text/x-python",
   "name": "python",
   "nbconvert_exporter": "python",
   "pygments_lexer": "ipython3",
   "version": "3.8.13"
  }
 },
 "nbformat": 4,
 "nbformat_minor": 5
}
