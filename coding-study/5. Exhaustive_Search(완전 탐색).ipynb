{
 "cells": [
  {
   "cell_type": "markdown",
   "id": "60b43097",
   "metadata": {},
   "source": [
    "# Exhaustive_Search(완전 탐색)"
   ]
  },
  {
   "cell_type": "markdown",
   "id": "74dc9473",
   "metadata": {},
   "source": [
    "## Exhaustive_Search(완전 탐색) 이란?\n",
    "가능한 모든 경우의 수를 다 체크해서 정답을 찾는 방법  \n",
    "무식하게 가능한 것을 다 해보겠다는 의미로 Brute Force라고도 부른다  \n",
    "\n",
    "#### Exhaustive_Search의 활용\n",
    "\n",
    "우선 완전탐색 기법으로 문제를 풀기 위해서는 다음과 같이 고려해서 수행한다.\n",
    "\n",
    "1) 해결하고자 하는 문제의 가능한 경우의 수를 대략적으로 계산한다.  \n",
    "2) 가능한 모든 방법을 다 고려한다.  \n",
    "3) 실제 답을 구할 수 있는지 적용한다. \n",
    "\n",
    "여기서 2)의 모든 방법에는 다음과 같은 방법 등이 있다.  \n",
    "\n",
    "1. Brute Force 기법   \n",
    "반복 / 조건문을 활용해 모두 테스트하는 방법  \n",
    "어느 기법을 사용하지 않고 단순히 for문과 if문 등으로 모든 case들을 만들어 답을 구하는 방법이다.   \n",
    "2. 순열(Permutation)  \n",
    "n개의 원소 중 r개의 원소를 중복 허용 없이 나열하는 방법  \n",
    "2진수를 이용하는 컴퓨터의 연산을 이용하는 방식이다.  \n",
    "3. 재귀 호출  \n",
    "재귀 함수를 통해서 문제를 만족하는 경우들을 만들어가는 방식이다.  \n",
    "4. 비트마스크  \n",
    "2진수 표현 기법을 활용하는 방법  \n",
    "5. BFS, DFS를 활용하는 방법\n"
   ]
  },
  {
   "cell_type": "code",
   "execution_count": null,
   "id": "c4c40ad2",
   "metadata": {},
   "outputs": [],
   "source": []
  },
  {
   "cell_type": "markdown",
   "id": "a493cb93",
   "metadata": {},
   "source": [
    "# 프로그래머스 코딩 테스트 (Exhaustive_Search)\n",
    "\n",
    "https://programmers.co.kr/learn/courses/30/parts/12230"
   ]
  },
  {
   "cell_type": "markdown",
   "id": "7cee76fb",
   "metadata": {},
   "source": [
    "## 1. 모의고사\n",
    "\n",
    "###### 문제 설명\n",
    "수포자는 수학을 포기한 사람의 준말입니다. 수포자 삼인방은 모의고사에 수학 문제를 전부 찍으려 합니다.  \n",
    "수포자는 1번 문제부터 마지막 문제까지 다음과 같이 찍습니다.\n",
    "\n",
    "1번 수포자가 찍는 방식: 1, 2, 3, 4, 5, 1, 2, 3, 4, 5, ...   \n",
    "2번 수포자가 찍는 방식: 2, 1, 2, 3, 2, 4, 2, 5, 2, 1, 2, 3, 2, 4, 2, 5, ...  \n",
    "3번 수포자가 찍는 방식: 3, 3, 1, 1, 2, 2, 4, 4, 5, 5, 3, 3, 1, 1, 2, 2, 4, 4, 5, 5, ...  \n",
    "\n",
    "1번 문제부터 마지막 문제까지의 정답이 순서대로 들은 배열 answers가 주어졌을 때,   \n",
    "가장 많은 문제를 맞힌 사람이 누구인지 배열에 담아 return 하도록 solution 함수를 작성해주세요.\n",
    "\n",
    "###### 제한 조건\n",
    "시험은 최대 10,000 문제로 구성되어있습니다.  \n",
    "문제의 정답은 1, 2, 3, 4, 5중 하나입니다.  \n",
    "가장 높은 점수를 받은 사람이 여럿일 경우, return하는 값을 오름차순 정렬해주세요.\n",
    "\n",
    "###### 입출력 예\n",
    "answers\treturn  \n",
    "[1,2,3,4,5]\t[1]  \n",
    "[1,3,2,4,2]\t[1,2,3]  \n",
    "\n",
    "###### 입출력 예 설명\n",
    "입출력 예 #1\n",
    "\n",
    "수포자 1은 모든 문제를 맞혔습니다.  \n",
    "수포자 2는 모든 문제를 틀렸습니다.  \n",
    "수포자 3은 모든 문제를 틀렸습니다.  \n",
    "따라서 가장 문제를 많이 맞힌 사람은 수포자 1입니다.  \n",
    "\n",
    "입출력 예 #2\n",
    "\n",
    "모든 사람이 2문제씩을 맞췄습니다."
   ]
  },
  {
   "cell_type": "code",
   "execution_count": null,
   "id": "bd2f3aa5",
   "metadata": {},
   "outputs": [],
   "source": [
    "def solution(answers):\n",
    "    A=[1,2,3,4,5]\n",
    "    B=[2, 1, 2, 3, 2, 4, 2, 5]\n",
    "    C=[3, 3, 1, 1, 2, 2, 4, 4, 5, 5]\n",
    "    abc=[0,0,0]\n",
    "    for i in range(len(answers)):\n",
    "        if A[i%len(A)] == answers[i]:\n",
    "            abc[0]+=1\n",
    "        if B[i%len(B)] == answers[i]:\n",
    "            abc[1]+=1\n",
    "        if C[i%len(C)] == answers[i]:\n",
    "            abc[2]+=1\n",
    "    answer=[]\n",
    "    for i in range(len(abc)):\n",
    "        if max(abc) == abc[i]:\n",
    "            answer.append(i+1)\n",
    "            \n",
    "    return answer"
   ]
  },
  {
   "cell_type": "markdown",
   "id": "a2e41b42",
   "metadata": {},
   "source": [
    "## 2.소수 찾기\n",
    "\n",
    "##### 문제 설명\n",
    "한자리 숫자가 적힌 종이 조각이 흩어져있습니다. 흩어진 종이 조각을 붙여 소수를 몇 개 만들 수 있는지 알아내려 합니다.\n",
    "\n",
    "각 종이 조각에 적힌 숫자가 적힌 문자열 numbers가 주어졌을 때,   \n",
    "종이 조각으로 만들 수 있는 소수가 몇 개인지 return 하도록 solution 함수를 완성해주세요.\n",
    "\n",
    "##### 제한사항\n",
    "numbers는 길이 1 이상 7 이하인 문자열입니다.  \n",
    "numbers는 0~9까지 숫자만으로 이루어져 있습니다.  \n",
    "\"013\"은 0, 1, 3 숫자가 적힌 종이 조각이 흩어져있다는 의미입니다.\n",
    "\n",
    "##### 입출력 예\n",
    "numbers\treturn  \n",
    "\"17\"\t3  \n",
    "\"011\"\t2  \n",
    "\n",
    "##### 입출력 예 설명\n",
    "예제 #1  \n",
    "[1, 7]으로는 소수 [7, 17, 71]를 만들 수 있습니다.  \n",
    "\n",
    "예제 #2  \n",
    "[0, 1, 1]으로는 소수 [11, 101]를 만들 수 있습니다.  \n",
    "\n",
    "11과 011은 같은 숫자로 취급합니다."
   ]
  },
  {
   "cell_type": "code",
   "execution_count": null,
   "id": "9706db9c",
   "metadata": {},
   "outputs": [],
   "source": [
    "import itertools\n",
    "from math import floor, sqrt\n",
    "def solution(numbers):\n",
    "    num=[]\n",
    "    answer=0\n",
    "    for i in range(1,len(numbers)+1):\n",
    "        test_nums = [int(''.join(j)) for j in itertools.permutations(numbers,i)]\n",
    "        for nums in test_nums:\n",
    "            if nums not in num:\n",
    "                num.append(nums)\n",
    "    for i in num:\n",
    "        n=0\n",
    "        for j in range(2,floor(sqrt(i))+1):\n",
    "            if i % j == 0:\n",
    "                n+=1\n",
    "        if i > 1 and n == 0:\n",
    "            answer+=1\n",
    "    return answer"
   ]
  },
  {
   "cell_type": "markdown",
   "id": "b5226406",
   "metadata": {},
   "source": [
    "## 3.카펫\n",
    "\n",
    "##### 문제 설명\n",
    "Leo는 카펫을 사러 갔다가 아래 그림과 같이 중앙에는 노란색으로 칠해져 있고 테두리 1줄은 갈색으로 칠해져 있는 격자 모양 카펫을 봤습니다.\n",
    "\n",
    "<img src=\"https://grepp-programmers.s3.ap-northeast-2.amazonaws.com/files/production/b1ebb809-f333-4df2-bc81-02682900dc2d/carpet.png\" width=\"300\" height=\"300\">\n",
    "\n",
    "Leo는 집으로 돌아와서 아까 본 카펫의 노란색과 갈색으로 색칠된 격자의 개수는 기억했지만, 전체 카펫의 크기는 기억하지 못했습니다.\n",
    "\n",
    "Leo가 본 카펫에서 갈색 격자의 수 brown, 노란색 격자의 수 yellow가 매개변수로 주어질 때 카펫의 가로, 세로 크기를 순서대로 배열에 담아 return 하도록 solution 함수를 작성해주세요.\n",
    "\n",
    "##### 제한사항\n",
    "갈색 격자의 수 brown은 8 이상 5,000 이하인 자연수입니다.  \n",
    "노란색 격자의 수 yellow는 1 이상 2,000,000 이하인 자연수입니다.  \n",
    "카펫의 가로 길이는 세로 길이와 같거나, 세로 길이보다 깁니다.\n",
    "\n",
    "##### 입출력 예\n",
    "brown\tyellow\treturn\n",
    "10\t2\t[4, 3]\n",
    "8\t1\t[3, 3]\n",
    "24\t24\t[8, 6]\n"
   ]
  },
  {
   "cell_type": "code",
   "execution_count": null,
   "id": "cb103d0b",
   "metadata": {},
   "outputs": [],
   "source": [
    "def solution(brown, yellow):\n",
    "    by = brown + yellow  \n",
    "    for i in range(3,int((brown+yellow)**(1/2))+2):\n",
    "        if by % i == 0 and by /i >= 3:\n",
    "            if (by //i-2) * (i-2) == yellow:\n",
    "                return [by //i,i]"
   ]
  }
 ],
 "metadata": {
  "kernelspec": {
   "display_name": "Python 3 (ipykernel)",
   "language": "python",
   "name": "python3"
  },
  "language_info": {
   "codemirror_mode": {
    "name": "ipython",
    "version": 3
   },
   "file_extension": ".py",
   "mimetype": "text/x-python",
   "name": "python",
   "nbconvert_exporter": "python",
   "pygments_lexer": "ipython3",
   "version": "3.8.13"
  }
 },
 "nbformat": 4,
 "nbformat_minor": 5
}
