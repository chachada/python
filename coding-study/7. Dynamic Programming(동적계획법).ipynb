{
 "cells": [
  {
   "cell_type": "markdown",
   "id": "c06ec29f",
   "metadata": {},
   "source": [
    "# Dynamic Programming(동적계획법)"
   ]
  },
  {
   "cell_type": "markdown",
   "id": "3097bbd0",
   "metadata": {},
   "source": [
    "## Dynamic Programming(동적계획법) 이란?\n",
    "\n",
    "동적계획법은 문제의 최적해를 구하거나 답의 개수를 세는 과정에 사용할 수 있는 알고리즘\n",
    "\n",
    "전체 문제를 작은 문제로 단순화한 다음 점화식으로 만들어 재귀적인 구조를 활용해서 전체 문제를 해결하는 방식\n",
    "\n",
    "#### Dynamic Programming 조건\n",
    "1. Overlapping Subproblems(겹치는 부분 문제)  \n",
    "동일한 작은 문제들이 반복하여 나타나는 경우에 사용이 가능    \n",
    "\n",
    "2. Optimal Substructure(최적 부분 구조)\n",
    "부분 문제의 최적 결과 값을 사용해 전체 문제의 최적 결과를 낼 수 있는 경우 -> 같은 문제는 항상 답이 같다.\n",
    "\n",
    "#### Dynamic Programming 구현방법\n",
    "1. Bottom-up  \n",
    "작은 문제부터 차근차근 구해나가는 방법\n",
    "\n",
    "2. Top-down  \n",
    "큰 문제를 풀다가 풀리지 않은 작은 문제가 있다면 그때 해결하는 방법 (재귀 방식)\n",
    "\n",
    "#### Dynamic Programming 장점\n",
    "불필요한 계산을 줄이고, 효율적으로 최적해를 찾을 수 있다.  \n",
    "결과적으로는 항상 최적의 해를 구할 수 있다.\n",
    "\n",
    "#### Dynamic Programming 단점\n",
    "그리디 알고리즘보다 시간이 오래 걸린다."
   ]
  },
  {
   "cell_type": "markdown",
   "id": "6bfca904",
   "metadata": {},
   "source": [
    "# 프로그래머스 코딩 테스트 (동적계획법(Dynamic Programming)\n",
    "https://school.programmers.co.kr/learn/courses/30/parts/12263"
   ]
  },
  {
   "cell_type": "markdown",
   "id": "979d6f82",
   "metadata": {},
   "source": [
    "## 1. N으로 표현\n",
    "\n",
    "##### 문제 설명\n",
    "아래와 같이 5와 사칙연산만으로 12를 표현할 수 있습니다.\n",
    "\n",
    "12 = 5 + 5 + (5 / 5) + (5 / 5)  \n",
    "12 = 55 / 5 + 5 / 5  \n",
    "12 = (55 + 5) / 5  \n",
    "\n",
    "5를 사용한 횟수는 각각 6,5,4 입니다. 그리고 이중 가장 작은 경우는 4입니다.  \n",
    "이처럼 숫자 N과 number가 주어질 때, N과 사칙연산만 사용해서 표현 할 수 있는 방법 중 N 사용횟수의 최솟값을 return 하도록 solution 함수를 작성하세요.\n",
    "\n",
    "##### 제한사항\n",
    "N은 1 이상 9 이하입니다.  \n",
    "number는 1 이상 32,000 이하입니다.  \n",
    "수식에는 괄호와 사칙연산만 가능하며 나누기 연산에서 나머지는 무시합니다.  \n",
    "최솟값이 8보다 크면 -1을 return 합니다.  \n",
    "\n",
    "##### 입출력 예\n",
    "N\tnumber\treturn  \n",
    "5\t12\t4  \n",
    "2\t11\t3  \n",
    "\n",
    "##### 입출력 예 설명\n",
    "예제 #1  \n",
    "문제에 나온 예와 같습니다.  \n",
    "\n",
    "예제 #2  \n",
    "11 = 22 / 2와 같이 2를 3번만 사용하여 표현할 수 있습니다."
   ]
  },
  {
   "cell_type": "code",
   "execution_count": 40,
   "id": "d9d64165",
   "metadata": {},
   "outputs": [],
   "source": [
    "def calculate(X, Y):\n",
    "    N_set = []\n",
    "    for x in X:\n",
    "        for y in Y:\n",
    "            N_set.append(x+y)\n",
    "            N_set.append(x-y)\n",
    "            N_set.append(x*y)\n",
    "            \n",
    "            if x != 0:\n",
    "                N_set.append(y//x)\n",
    "                \n",
    "    return list(set(N_set))\n",
    "\n",
    "def solution(N, number):\n",
    "\n",
    "    group = {}\n",
    "    group[1] = {N}\n",
    "\n",
    "    if N == number:\n",
    "        return 1\n",
    "    for n in range(2,9):\n",
    "        cnt = 1\n",
    "        temp = {int(str(N)*n)}\n",
    "        while cnt < n:\n",
    "            temp.update(calculate(group[cnt], group[n-cnt]))\n",
    "            cnt += 1\n",
    "        if number in temp:\n",
    "            return n     \n",
    "        \n",
    "        group[n] = temp\n",
    "    return -1"
   ]
  },
  {
   "cell_type": "code",
   "execution_count": 41,
   "id": "a487b178",
   "metadata": {},
   "outputs": [
    {
     "name": "stdout",
     "output_type": "stream",
     "text": [
      "4\n",
      "3\n"
     ]
    }
   ],
   "source": [
    "N, number = 5, 12\n",
    "print(solution(N,number))\n",
    "N, number = 2, 11\n",
    "print(solution(N,number))"
   ]
  },
  {
   "cell_type": "markdown",
   "id": "fd3ccaf8",
   "metadata": {},
   "source": [
    "## 정수 삼각형\n",
    "##### 문제 설명\n",
    "<img src=\"https://grepp-programmers.s3.amazonaws.com/files/production/97ec02cc39/296a0863-a418-431d-9e8c-e57f7a9722ac.png\" width=\"300\" height=\"300\">\n",
    "\n",
    "위와 같은 삼각형의 꼭대기에서 바닥까지 이어지는 경로 중, 거쳐간 숫자의 합이 가장 큰 경우를 찾아보려고 합니다.  \n",
    "아래 칸으로 이동할 때는 대각선 방향으로 한 칸 오른쪽 또는 왼쪽으로만 이동 가능합니다.  \n",
    "예를 들어 3에서는 그 아래칸의 8 또는 1로만 이동이 가능합니다.\n",
    "\n",
    "삼각형의 정보가 담긴 배열 triangle이 매개변수로 주어질 때, 거쳐간 숫자의 최댓값을 return 하도록 solution 함수를 완성하세요.\n",
    "\n",
    "##### 제한사항\n",
    "삼각형의 높이는 1 이상 500 이하입니다.    \n",
    "삼각형을 이루고 있는 숫자는 0 이상 9,999 이하의 정수입니다.\n",
    "\n",
    "##### 입출력 예\n",
    "triangle\t　　　　　　　　　　　　　　　　　　result  \n",
    "[[7], [3, 8], [8, 1, 0], [2, 7, 4, 4], [4, 5, 2, 6, 5]]　　\t30"
   ]
  },
  {
   "cell_type": "code",
   "execution_count": 36,
   "id": "9f010015",
   "metadata": {},
   "outputs": [],
   "source": [
    "def solution(triangle):\n",
    "    for line in range(1,len(triangle)):\n",
    "        for i in range(len(triangle[line])):\n",
    "            if i == 0 :\n",
    "                triangle[line][i] += triangle[line-1][0]\n",
    "            elif i == line:\n",
    "                triangle[line][i] += triangle[line-1][-1]\n",
    "            else:\n",
    "                triangle[line][i] += max(triangle[line-1][i-1],triangle[line-1][i])\n",
    "    return max(triangle[-1])"
   ]
  },
  {
   "cell_type": "code",
   "execution_count": 38,
   "id": "829219ad",
   "metadata": {},
   "outputs": [
    {
     "data": {
      "text/plain": [
       "30"
      ]
     },
     "execution_count": 38,
     "metadata": {},
     "output_type": "execute_result"
    }
   ],
   "source": [
    "triangle = [[7], [3, 8], [8, 1, 0], [2, 7, 4, 4], [4, 5, 2, 6, 5]]\n",
    "solution(triangle)"
   ]
  },
  {
   "cell_type": "markdown",
   "id": "3792e5ce",
   "metadata": {},
   "source": [
    "## 등굣길\n",
    "##### 문제 설명\n",
    "계속되는 폭우로 일부 지역이 물에 잠겼습니다.   \n",
    "물에 잠기지 않은 지역을 통해 학교를 가려고 합니다.  \n",
    "집에서 학교까지 가는 길은 m x n 크기의 격자모양으로 나타낼 수 있습니다.\n",
    "\n",
    "아래 그림은 m = 4, n = 3 인 경우입니다.\n",
    "\n",
    "<img src=\"https://grepp-programmers.s3.amazonaws.com/files/ybm/056f54e618/f167a3bc-e140-4fa8-a8f8-326a99e0f567.png\" width=\"300\" height=\"300\">\n",
    "\n",
    "가장 왼쪽 위, 즉 집이 있는 곳의 좌표는 (1, 1)로 나타내고 가장 오른쪽 아래, 즉 학교가 있는 곳의 좌표는 (m, n)으로 나타냅니다.\n",
    "\n",
    "격자의 크기 m, n과 물이 잠긴 지역의 좌표를 담은 2차원 배열 puddles이 매개변수로 주어집니다.  \n",
    "오른쪽과 아래쪽으로만 움직여 집에서 학교까지 갈 수 있는 최단경로의 개수를 1,000,000,007로 나눈 나머지를 return 하도록 solution 함수를 작성해주세요.\n",
    "\n",
    "##### 제한사항\n",
    "격자의 크기 m, n은 1 이상 100 이하인 자연수입니다.  \n",
    "m과 n이 모두 1인 경우는 입력으로 주어지지 않습니다.  \n",
    "물에 잠긴 지역은 0개 이상 10개 이하입니다.  \n",
    "집과 학교가 물에 잠긴 경우는 입력으로 주어지지 않습니다.\n",
    "\n",
    "##### 입출력 예\n",
    "m　　n　　puddles　　return  \n",
    "4　　3　　[[2, 2]]　　　　4  \n",
    "\n",
    "##### 입출력 예 설명\n",
    "<img src=\"https://grepp-programmers.s3.amazonaws.com/files/ybm/32c67958d5/729216f3-f305-4ad1-b3b0-04c2ba0b379a.png\" width=\"300\" height=\"300\">"
   ]
  },
  {
   "cell_type": "code",
   "execution_count": 34,
   "id": "adea2929",
   "metadata": {},
   "outputs": [],
   "source": [
    "def solution(m, n, puddles):\n",
    "    answer = 0\n",
    "    _map = [[0] * m for _ in range(n)]\n",
    "    \n",
    "    j = 0\n",
    "    while [j+1,1] not in puddles and j in range(m):\n",
    "        _map[0][j] = 1\n",
    "        j += 1\n",
    "    i=0\n",
    "    while[1,i+1] not in puddles and i in range(n):\n",
    "        _map[i][0] = 1\n",
    "        i+=1\n",
    "    \n",
    "    for nn in range(1,n):\n",
    "        for mm in range(m):\n",
    "            if [mm + 1, nn + 1] not in puddles:\n",
    "                _map[nn][mm] = _map[nn - 1][mm] + _map[nn][mm - 1]\n",
    "    return _map[-1][-1] % 1000000007"
   ]
  },
  {
   "cell_type": "code",
   "execution_count": 35,
   "id": "847b0669",
   "metadata": {},
   "outputs": [
    {
     "data": {
      "text/plain": [
       "4"
      ]
     },
     "execution_count": 35,
     "metadata": {},
     "output_type": "execute_result"
    }
   ],
   "source": [
    "m, n, puddles = 4, 3, [[2,2]]\n",
    "solution(m,n,puddles)"
   ]
  },
  {
   "cell_type": "markdown",
   "id": "4b5ba3e1",
   "metadata": {},
   "source": [
    "## 사칙연산\n",
    "\n",
    "##### 문제 설명\n",
    "사칙연산에서 더하기(+)는 결합법칙이 성립하지만, 빼기(-)는 결합법칙이 성립하지 않습니다.  \n",
    "예를 들어 식 1 - 5 - 3은 연산 순서에 따라 다음과 같이 다른 결과를 가집니다.\n",
    "\n",
    "((1 - 5) - 3) = -7  \n",
    "(1 - (5 - 3)) = -1  \n",
    "위 예시와 같이 뺄셈은 연산 순서에 따라 그 결과가 바뀔 수 있습니다.  \n",
    "또 다른 예로 식 1 - 3 + 5 - 8은 연산 순서에 따라 다음과 같이 5가지 결과가 나옵니다.\n",
    "\n",
    "(((1 - 3) + 5) - 8) = -5  \n",
    "((1 - (3 + 5)) - 8) = -15  \n",
    "(1 - ((3 + 5) - 8)) = 1  \n",
    "(1 - (3 + (5 - 8))) = 1  \n",
    "((1 - 3) + (5 - 8)) = -5  \n",
    "위와 같이 서로 다른 연산 순서의 계산 결과는 [-15, -5, -5, 1, 1]이 되며, 이중 최댓값은 1입니다.  \n",
    "문자열 형태의 숫자와, 더하기 기호(\"+\"), 뺄셈 기호(\"-\")가 들어있는 배열 arr가 매개변수로 주어질 때, 서로 다른 연산순서의 계산 결과 중 최댓값을 return 하도록 solution 함수를 완성해 주세요.\n",
    "\n",
    "##### 제한 사항\n",
    "arr는 두 연산자 \"+\", \"-\" 와 숫자가 들어있는 배열이며, 길이는 3 이상 201 이하 입니다.  \n",
    "arr의 길이는 항상 홀수입니다.  \n",
    "arr에 들어있는 숫자의 개수는 2개 이상 101개 이하이며, 연산자의 개수는 (숫자의 개수) -1 입니다.  \n",
    "숫자는 1 이상 1,000 이하의 자연수가 문자열 형태로 들어있습니다.. (ex : \"456\")  \n",
    "배열의 첫 번째 원소와 마지막 원소는 반드시 숫자이며, 숫자와 연산자가 항상 번갈아가며 들어있습니다.  \n",
    "\n",
    "##### 입출력 예\n",
    "　　\t　　\tarr　　　　　　　　　　　　\tresult   \n",
    "[\"1\", \"-\", \"3\", \"+\", \"5\", \"-\", \"8\"]　　　　　　　\t1  \n",
    "[\"5\", \"-\", \"3\", \"+\", \"1\", \"+\", \"2\", \"-\", \"4\"]　　\t　3\n",
    "\n",
    "##### 입출력 예시\n",
    "입출력 예 #1\n",
    "위의 예시와 같이 (1-(3+(5-8))) = 1 입니다.\n",
    "\n",
    "입출력 예 #2\n",
    "(5-(3+((1+2)-4))) = 3 입니다."
   ]
  },
  {
   "cell_type": "code",
   "execution_count": 31,
   "id": "1add3476",
   "metadata": {},
   "outputs": [],
   "source": [
    "def solution(arr):\n",
    "    minmax = [0,0]\n",
    "    _sum = 0\n",
    "    for idx in range(len(arr)-1, -1, -1):\n",
    "        if arr[idx] == '+':\n",
    "            continue\n",
    "        elif arr[idx] == '-':\n",
    "            temp_min, temp_max = minmax\n",
    "            minmax[0] = min(-(_sum+temp_max),-_sum+temp_min)\n",
    "            \n",
    "            pre_v = int(arr[idx+1])\n",
    "            minmax[1] = max(-(_sum+temp_min),-pre_v+(_sum-pre_v)+temp_max)\n",
    "            \n",
    "            _sum = 0\n",
    "            \n",
    "        else:\n",
    "            _sum += int(arr[idx])\n",
    "    minmax[1] += _sum        \n",
    "        \n",
    "    return minmax[1]\n"
   ]
  },
  {
   "cell_type": "code",
   "execution_count": 33,
   "id": "34741652",
   "metadata": {},
   "outputs": [
    {
     "name": "stdout",
     "output_type": "stream",
     "text": [
      "1\n",
      "3\n"
     ]
    }
   ],
   "source": [
    "arr = [\"1\", \"-\", \"3\", \"+\", \"5\", \"-\", \"8\"]\n",
    "print(solution(arr))\n",
    "arr = [\"5\", \"-\", \"3\", \"+\", \"1\", \"+\", \"2\", \"-\", \"4\"]\n",
    "print(solution(arr))"
   ]
  },
  {
   "cell_type": "markdown",
   "id": "6709b1f1",
   "metadata": {},
   "source": [
    "## 도둑질\n",
    "\n",
    "#### 문제 설명\n",
    "도둑이 어느 마을을 털 계획을 하고 있습니다. 이 마을의 모든 집들은 아래 그림과 같이 동그랗게 배치되어 있습니다.\n",
    "\n",
    "<img src=\"https://grepp-programmers.s3.amazonaws.com/files/ybm/e7dd4f51c3/a228c73d-1cbe-4d59-bb5d-833fd18d3382.png\" width=\"300\" height=\"300\">\n",
    "\n",
    "각 집들은 서로 인접한 집들과 방범장치가 연결되어 있기 때문에 인접한 두 집을 털면 경보가 울립니다.  \n",
    "각 집에 있는 돈이 담긴 배열 money가 주어질 때, 도둑이 훔칠 수 있는 돈의 최댓값을 return 하도록 solution 함수를 작성하세요.\n",
    "\n",
    "#### 제한사항\n",
    "이 마을에 있는 집은 3개 이상 1,000,000개 이하입니다.  \n",
    "money 배열의 각 원소는 0 이상 1,000 이하인 정수입니다.\n",
    "\n",
    "#### 입출력 예\n",
    "money\t　　return  \n",
    "[1, 2, 3, 1]　　4"
   ]
  },
  {
   "cell_type": "code",
   "execution_count": 29,
   "id": "3529c51c",
   "metadata": {},
   "outputs": [],
   "source": [
    "def find(money):\n",
    "    money.insert(0,0)\n",
    "    for i in range(2,len(money)):\n",
    "        if money[i-2] + money[i] < money[i-1]:\n",
    "            money[i] = money[i-1]\n",
    "        else:\n",
    "            money[i] += money[i-2]\n",
    "    return max(money[-1],money[-2])\n",
    "def solution(money):\n",
    "    answer = []\n",
    "    answer.append(find(money[:-1]))\n",
    "    answer.append(find(money[1:]))\n",
    "\n",
    "    return max(answer)"
   ]
  },
  {
   "cell_type": "code",
   "execution_count": 30,
   "id": "86404e9d",
   "metadata": {},
   "outputs": [
    {
     "data": {
      "text/plain": [
       "4"
      ]
     },
     "execution_count": 30,
     "metadata": {},
     "output_type": "execute_result"
    }
   ],
   "source": [
    "money = [1,2,3,1]\n",
    "solution(money)"
   ]
  }
 ],
 "metadata": {
  "kernelspec": {
   "display_name": "Python 3 (ipykernel)",
   "language": "python",
   "name": "python3"
  },
  "language_info": {
   "codemirror_mode": {
    "name": "ipython",
    "version": 3
   },
   "file_extension": ".py",
   "mimetype": "text/x-python",
   "name": "python",
   "nbconvert_exporter": "python",
   "pygments_lexer": "ipython3",
   "version": "3.8.13"
  }
 },
 "nbformat": 4,
 "nbformat_minor": 5
}
