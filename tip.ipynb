{
 "cells": [
  {
   "cell_type": "markdown",
   "id": "d368169c",
   "metadata": {},
   "source": [
    "# Tips"
   ]
  },
  {
   "cell_type": "markdown",
   "id": "38ed421c",
   "metadata": {},
   "source": [
    "### cell 의  out을 모두 표시!!!"
   ]
  },
  {
   "cell_type": "code",
   "execution_count": 4,
   "id": "5b614a7a",
   "metadata": {},
   "outputs": [
    {
     "data": {
      "text/plain": [
       "2"
      ]
     },
     "execution_count": 4,
     "metadata": {},
     "output_type": "execute_result"
    },
    {
     "data": {
      "text/plain": [
       "4"
      ]
     },
     "execution_count": 4,
     "metadata": {},
     "output_type": "execute_result"
    }
   ],
   "source": [
    "from IPython.core.interactiveshell import InteractiveShell\n",
    "InteractiveShell.ast_node_interactivity = 'all'\n",
    "\n",
    "1+1\n",
    "2+2"
   ]
  },
  {
   "cell_type": "markdown",
   "id": "cfd9aee8",
   "metadata": {},
   "source": [
    "### 예쁘게 print "
   ]
  },
  {
   "cell_type": "code",
   "execution_count": 25,
   "id": "cbc4ffa2",
   "metadata": {},
   "outputs": [
    {
     "name": "stdout",
     "output_type": "stream",
     "text": [
      "{'A': '101', 'BB': {'Printing can be pretty': 'you can do it'}, 'CCCCCCC': {'DD': '사과', 'EEE': 20220722, 'FFFF': '가나다라마바사아자차카타파하'}}\n"
     ]
    }
   ],
   "source": [
    "data = {'A': '101', 'BB' : {'Printing can be pretty':'you can do it'}, \n",
    "        'CCCCCCC' : {'DD' : '사과', 'EEE' : 20220722, 'FFFF' : '가나다라마바사아자차카타파하'}}\n",
    "print(data)"
   ]
  },
  {
   "cell_type": "code",
   "execution_count": 26,
   "id": "058d3d5e",
   "metadata": {},
   "outputs": [
    {
     "name": "stdout",
     "output_type": "stream",
     "text": [
      "{'A': '101',\n",
      " 'BB': {'Printing can be pretty': 'you can do it'},\n",
      " 'CCCCCCC': {'DD': '사과', 'EEE': 20220722, 'FFFF': '가나다라마바사아자차카타파하'}}\n"
     ]
    }
   ],
   "source": [
    "import pprint\n",
    "pprint.pprint(data)"
   ]
  },
  {
   "cell_type": "markdown",
   "id": "59ab996c",
   "metadata": {},
   "source": [
    "### 실수로 cell을 지웠을 때\n",
    "ESC + Z \n",
    "EDIT -> Undo Delete Cells"
   ]
  }
 ],
 "metadata": {
  "kernelspec": {
   "display_name": "Python 3 (ipykernel)",
   "language": "python",
   "name": "python3"
  },
  "language_info": {
   "codemirror_mode": {
    "name": "ipython",
    "version": 3
   },
   "file_extension": ".py",
   "mimetype": "text/x-python",
   "name": "python",
   "nbconvert_exporter": "python",
   "pygments_lexer": "ipython3",
   "version": "3.8.13"
  }
 },
 "nbformat": 4,
 "nbformat_minor": 5
}
